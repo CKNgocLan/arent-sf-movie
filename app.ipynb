{
 "cells": [
  {
   "cell_type": "markdown",
   "metadata": {},
   "source": [
    "# Use in Development Process in order to reduce spent time of running Python"
   ]
  },
  {
   "cell_type": "code",
   "execution_count": 28,
   "metadata": {},
   "outputs": [],
   "source": [
    "# Import libraries\n",
    "from dataclasses import replace\n",
    "import pandas as pd\n",
    "from json import dumps\n",
    "from flask import Flask, render_template\n",
    "import requests\n",
    "from dotenv import load_dotenv\n",
    "import os"
   ]
  },
  {
   "cell_type": "code",
   "execution_count": 29,
   "metadata": {},
   "outputs": [
    {
     "data": {
      "text/html": [
       "<div>\n",
       "<style scoped>\n",
       "    .dataframe tbody tr th:only-of-type {\n",
       "        vertical-align: middle;\n",
       "    }\n",
       "\n",
       "    .dataframe tbody tr th {\n",
       "        vertical-align: top;\n",
       "    }\n",
       "\n",
       "    .dataframe thead th {\n",
       "        text-align: right;\n",
       "    }\n",
       "</style>\n",
       "<table border=\"1\" class=\"dataframe\">\n",
       "  <thead>\n",
       "    <tr style=\"text-align: right;\">\n",
       "      <th></th>\n",
       "      <th>Title</th>\n",
       "      <th>Release Year</th>\n",
       "      <th>Locations</th>\n",
       "      <th>Fun Facts</th>\n",
       "      <th>Production Company</th>\n",
       "      <th>Distributor</th>\n",
       "      <th>Director</th>\n",
       "      <th>Writer</th>\n",
       "      <th>Actor 1</th>\n",
       "      <th>Actor 2</th>\n",
       "      <th>Actor 3</th>\n",
       "    </tr>\n",
       "  </thead>\n",
       "  <tbody>\n",
       "    <tr>\n",
       "      <th>0</th>\n",
       "      <td>A Jitney Elopement</td>\n",
       "      <td>1915</td>\n",
       "      <td>20th and Folsom Streets</td>\n",
       "      <td>NaN</td>\n",
       "      <td>The Essanay Film Manufacturing Company</td>\n",
       "      <td>General Film Company</td>\n",
       "      <td>Charles Chaplin</td>\n",
       "      <td>Charles Chaplin</td>\n",
       "      <td>Charles Chaplin</td>\n",
       "      <td>Edna Purviance</td>\n",
       "      <td>NaN</td>\n",
       "    </tr>\n",
       "    <tr>\n",
       "      <th>1</th>\n",
       "      <td>A Jitney Elopement</td>\n",
       "      <td>1915</td>\n",
       "      <td>Golden Gate Park</td>\n",
       "      <td>During San Francisco's Gold Rush era, the Park...</td>\n",
       "      <td>The Essanay Film Manufacturing Company</td>\n",
       "      <td>General Film Company</td>\n",
       "      <td>Charles Chaplin</td>\n",
       "      <td>Charles Chaplin</td>\n",
       "      <td>Charles Chaplin</td>\n",
       "      <td>Edna Purviance</td>\n",
       "      <td>NaN</td>\n",
       "    </tr>\n",
       "    <tr>\n",
       "      <th>2</th>\n",
       "      <td>Greed</td>\n",
       "      <td>1924</td>\n",
       "      <td>Cliff House (1090 Point Lobos Avenue)</td>\n",
       "      <td>In 1887, the Cliff House was severely damaged ...</td>\n",
       "      <td>Metro-Goldwyn-Mayer (MGM)</td>\n",
       "      <td>Metro-Goldwyn-Mayer (MGM)</td>\n",
       "      <td>Eric von Stroheim</td>\n",
       "      <td>Eric von Stroheim</td>\n",
       "      <td>Zasu Pitts</td>\n",
       "      <td>Gibson Gowland</td>\n",
       "      <td>Jean Hersholt</td>\n",
       "    </tr>\n",
       "    <tr>\n",
       "      <th>3</th>\n",
       "      <td>Greed</td>\n",
       "      <td>1924</td>\n",
       "      <td>Bush and Sutter Streets</td>\n",
       "      <td>NaN</td>\n",
       "      <td>Metro-Goldwyn-Mayer (MGM)</td>\n",
       "      <td>Metro-Goldwyn-Mayer (MGM)</td>\n",
       "      <td>Eric von Stroheim</td>\n",
       "      <td>Eric von Stroheim</td>\n",
       "      <td>Zasu Pitts</td>\n",
       "      <td>Gibson Gowland</td>\n",
       "      <td>Jean Hersholt</td>\n",
       "    </tr>\n",
       "    <tr>\n",
       "      <th>4</th>\n",
       "      <td>Greed</td>\n",
       "      <td>1924</td>\n",
       "      <td>Hayes Street at Laguna</td>\n",
       "      <td>NaN</td>\n",
       "      <td>Metro-Goldwyn-Mayer (MGM)</td>\n",
       "      <td>Metro-Goldwyn-Mayer (MGM)</td>\n",
       "      <td>Eric von Stroheim</td>\n",
       "      <td>Eric von Stroheim</td>\n",
       "      <td>Zasu Pitts</td>\n",
       "      <td>Gibson Gowland</td>\n",
       "      <td>Jean Hersholt</td>\n",
       "    </tr>\n",
       "  </tbody>\n",
       "</table>\n",
       "</div>"
      ],
      "text/plain": [
       "                Title  Release Year                              Locations  \\\n",
       "0  A Jitney Elopement          1915                20th and Folsom Streets   \n",
       "1  A Jitney Elopement          1915                       Golden Gate Park   \n",
       "2               Greed          1924  Cliff House (1090 Point Lobos Avenue)   \n",
       "3               Greed          1924                Bush and Sutter Streets   \n",
       "4               Greed          1924                 Hayes Street at Laguna   \n",
       "\n",
       "                                           Fun Facts  \\\n",
       "0                                                NaN   \n",
       "1  During San Francisco's Gold Rush era, the Park...   \n",
       "2  In 1887, the Cliff House was severely damaged ...   \n",
       "3                                                NaN   \n",
       "4                                                NaN   \n",
       "\n",
       "                       Production Company                Distributor  \\\n",
       "0  The Essanay Film Manufacturing Company       General Film Company   \n",
       "1  The Essanay Film Manufacturing Company       General Film Company   \n",
       "2               Metro-Goldwyn-Mayer (MGM)  Metro-Goldwyn-Mayer (MGM)   \n",
       "3               Metro-Goldwyn-Mayer (MGM)  Metro-Goldwyn-Mayer (MGM)   \n",
       "4               Metro-Goldwyn-Mayer (MGM)  Metro-Goldwyn-Mayer (MGM)   \n",
       "\n",
       "            Director             Writer          Actor 1         Actor 2  \\\n",
       "0    Charles Chaplin    Charles Chaplin  Charles Chaplin  Edna Purviance   \n",
       "1    Charles Chaplin    Charles Chaplin  Charles Chaplin  Edna Purviance   \n",
       "2  Eric von Stroheim  Eric von Stroheim       Zasu Pitts  Gibson Gowland   \n",
       "3  Eric von Stroheim  Eric von Stroheim       Zasu Pitts  Gibson Gowland   \n",
       "4  Eric von Stroheim  Eric von Stroheim       Zasu Pitts  Gibson Gowland   \n",
       "\n",
       "         Actor 3  \n",
       "0            NaN  \n",
       "1            NaN  \n",
       "2  Jean Hersholt  \n",
       "3  Jean Hersholt  \n",
       "4  Jean Hersholt  "
      ]
     },
     "execution_count": 29,
     "metadata": {},
     "output_type": "execute_result"
    }
   ],
   "source": [
    "# Read CSV file\n",
    "df = pd.read_csv('Film_Locations_in_San_Francisco.csv')\n",
    "df.head(5)"
   ]
  },
  {
   "cell_type": "code",
   "execution_count": 50,
   "metadata": {},
   "outputs": [],
   "source": [
    "# Preprocess Address: convert to queryable string used in url\n",
    "def preprocessAddress(address = \"\"):\n",
    "    return address.lower().replace(\" \", \"+\").replace(\"and\", \"%26\").replace('streets', 'st', )"
   ]
  },
  {
   "cell_type": "code",
   "execution_count": 41,
   "metadata": {},
   "outputs": [],
   "source": [
    "search_url = \"https://nominatim.openstreetmap.org/search.php?q={}%2C+san+francisco&limit=1&format=jsonv2\""
   ]
  },
  {
   "cell_type": "code",
   "execution_count": 69,
   "metadata": {},
   "outputs": [
    {
     "ename": "TypeError",
     "evalue": "'function' object is not iterable",
     "output_type": "error",
     "traceback": [
      "\u001b[1;31m---------------------------------------------------------------------------\u001b[0m",
      "\u001b[1;31mTypeError\u001b[0m                                 Traceback (most recent call last)",
      "\u001b[1;32me:\\Working\\Project\\arent-sf-movie\\app.ipynb Cell 6\u001b[0m in \u001b[0;36m<cell line: 1>\u001b[1;34m()\u001b[0m\n\u001b[0;32m      <a href='vscode-notebook-cell:/e%3A/Working/Project/arent-sf-movie/app.ipynb#X10sZmlsZQ%3D%3D?line=0'>1</a>\u001b[0m \u001b[39mfor\u001b[39;00m x \u001b[39min\u001b[39;00m \u001b[39mrange\u001b[39m(\u001b[39m6\u001b[39m):\n\u001b[1;32m----> <a href='vscode-notebook-cell:/e%3A/Working/Project/arent-sf-movie/app.ipynb#X10sZmlsZQ%3D%3D?line=1'>2</a>\u001b[0m     \u001b[39mlist\u001b[39m \u001b[39m=\u001b[39m \u001b[39mmap\u001b[39;49m(requests\u001b[39m.\u001b[39;49mget(search_url\u001b[39m.\u001b[39;49mformat(preprocessAddress(df\u001b[39m.\u001b[39;49m_get_value(\u001b[39m0\u001b[39;49m, \u001b[39m\"\u001b[39;49m\u001b[39mLocations\u001b[39;49m\u001b[39m\"\u001b[39;49m))))\u001b[39m.\u001b[39;49mjson()[\u001b[39m0\u001b[39;49m],\n\u001b[0;32m      <a href='vscode-notebook-cell:/e%3A/Working/Project/arent-sf-movie/app.ipynb#X10sZmlsZQ%3D%3D?line=2'>3</a>\u001b[0m         \u001b[39mlambda\u001b[39;49;00m result: [result[\u001b[39m'\u001b[39;49m\u001b[39mlat\u001b[39;49m\u001b[39m'\u001b[39;49m], result[\u001b[39m'\u001b[39;49m\u001b[39mlon\u001b[39;49m\u001b[39m'\u001b[39;49m]])\n\u001b[0;32m      <a href='vscode-notebook-cell:/e%3A/Working/Project/arent-sf-movie/app.ipynb#X10sZmlsZQ%3D%3D?line=3'>4</a>\u001b[0m     \u001b[39mprint\u001b[39m(\u001b[39mlist\u001b[39m)\n",
      "\u001b[1;31mTypeError\u001b[0m: 'function' object is not iterable"
     ]
    }
   ],
   "source": [
    "for x in range(6):\n",
    "    list = map(requests.get(search_url.format(preprocessAddress(df._get_value(0, \"Locations\")))).json()[0],\n",
    "        lambda result: [result['lat'], result['lon']])\n",
    "    print(list)"
   ]
  },
  {
   "cell_type": "code",
   "execution_count": 51,
   "metadata": {},
   "outputs": [
    {
     "data": {
      "text/plain": [
       "'https://nominatim.openstreetmap.org/search.php?q=20th+%26+folsom+st%2C+san+francisco&limit=1&format=jsonv2'"
      ]
     },
     "execution_count": 51,
     "metadata": {},
     "output_type": "execute_result"
    }
   ],
   "source": [
    "url = search_url.format(preprocessAddress(df._get_value(0, \"Locations\")))\n",
    "url"
   ]
  },
  {
   "cell_type": "code",
   "execution_count": 67,
   "metadata": {},
   "outputs": [
    {
     "data": {
      "text/plain": [
       "'37.7840247 - -122.3987664'"
      ]
     },
     "execution_count": 67,
     "metadata": {},
     "output_type": "execute_result"
    }
   ],
   "source": [
    "result = requests.get(url).json()[0]\n",
    "\"{} - {}\".format(result['lat'], result['lon'])"
   ]
  }
 ],
 "metadata": {
  "kernelspec": {
   "display_name": "Python 3.10.4 ('venv': venv)",
   "language": "python",
   "name": "python3"
  },
  "language_info": {
   "codemirror_mode": {
    "name": "ipython",
    "version": 3
   },
   "file_extension": ".py",
   "mimetype": "text/x-python",
   "name": "python",
   "nbconvert_exporter": "python",
   "pygments_lexer": "ipython3",
   "version": "3.10.4"
  },
  "orig_nbformat": 4,
  "vscode": {
   "interpreter": {
    "hash": "b3fc8c9c5b43b8331eb88bf6d7c917447d663f7dcc26851d77085b0d7b11ec18"
   }
  }
 },
 "nbformat": 4,
 "nbformat_minor": 2
}
