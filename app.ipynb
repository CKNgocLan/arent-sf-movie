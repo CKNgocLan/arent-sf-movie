{
 "cells": [
  {
   "cell_type": "markdown",
   "metadata": {},
   "source": [
    "# Use in Development Process in order to reduce spent time of running Python"
   ]
  },
  {
   "cell_type": "code",
   "execution_count": 1,
   "metadata": {},
   "outputs": [],
   "source": [
    "# Import libraries\n",
    "from dataclasses import replace\n",
    "import pandas as pd\n",
    "from json import dumps\n",
    "from flask import Flask, render_template\n",
    "import requests\n",
    "from dotenv import load_dotenv\n",
    "import os\n",
    "import numpy as np"
   ]
  },
  {
   "cell_type": "code",
   "execution_count": 2,
   "metadata": {},
   "outputs": [],
   "source": [
    "# Read CSV file\n",
    "df = pd.read_csv('Film_Locations_in_San_Francisco.csv')\n",
    "# df.head(5)"
   ]
  },
  {
   "cell_type": "code",
   "execution_count": 3,
   "metadata": {},
   "outputs": [],
   "source": [
    "# Preprocess Address: convert to queryable string used in url\n",
    "def preprocessAddress(address = \"\"):\n",
    "    return address.lower().replace(\" \", \"+\").replace(\"and\", \", \").replace('streets', 'st')"
   ]
  },
  {
   "cell_type": "code",
   "execution_count": null,
   "metadata": {},
   "outputs": [],
   "source": [
    "search_url = \"https://nominatim.openstreetmap.org/search.php?q={}%2C+san+francisco&limit=1&format=jsonv2\""
   ]
  },
  {
   "cell_type": "code",
   "execution_count": 12,
   "metadata": {},
   "outputs": [
    {
     "name": "stdout",
     "output_type": "stream",
     "text": [
      "Address: Cliff House (1090 Point Lobos Avenue)\n",
      "Found\n",
      "[37.77855475, -122.51407975902555]\n",
      "-----------------------------\n",
      "Address: San Francisco Bay\n",
      "Found\n",
      "[37.71402905, -122.30779415179862]\n",
      "-----------------------------\n",
      "Address: Fairmont Hotel (950 Mason Street, Nob Hill)\n",
      "Found\n",
      "[37.7923686, -122.41003009790424]\n",
      "-----------------------------\n",
      "Address: Bay Bridge\n",
      "Found\n",
      "[38.9925372, -76.3794605]\n",
      "-----------------------------\n",
      "Address: Golden Gate Bridge\n",
      "Found\n",
      "[37.81990665, -122.47858000733174]\n",
      "-----------------------------\n",
      "Address: Ferry Building\n",
      "Found\n",
      "[37.7947815, -122.393678]\n",
      "-----------------------------\n",
      "Address: Burritt Alley (Off Bush Street, between Powell and Stockton Streets)\n",
      "NOT Found\n",
      "https://nominatim.openstreetmap.org/search.php?q=burritt%2Balley%2B%28off%2Bbush%2Bstreet%2C%2Bbetween%2Bpowell%2B%2C+%2Bstockton%2Bst%29&limit=1&format=jsonv2\n",
      "-----------------------------\n",
      "Address: The Barbary Coast\n",
      "Found\n",
      "[54.14795075, -4.478080854011932]\n",
      "-----------------------------\n",
      "Address: Golden Gate Bridge\n",
      "Found\n",
      "[37.81990665, -122.47858000733174]\n",
      "-----------------------------\n"
     ]
    }
   ],
   "source": [
    "for x in range(10, 20):\n",
    "    url = \"https://nominatim.openstreetmap.org/search.php\"\n",
    "    addr = df.at[x, \"Locations\"]\n",
    "    if pd.isnull(df.at[x, \"Locations\"]):\n",
    "        continue\n",
    "\n",
    "    print(\"Address: {}\".format(addr))\n",
    "    response = requests.get(url, params={\n",
    "        \"q\": preprocessAddress(addr),\n",
    "        \"limit\": 1,\n",
    "        \"format\": \"jsonv2\"\n",
    "    })\n",
    "    if len(response.json()) <= 0:\n",
    "        print(\"NOT Found\")\n",
    "        print(response.url)\n",
    "    else:\n",
    "        print(\"Found\")\n",
    "        print(\"[{}, {}]\".format(response.json()[0]['lat'], response.json()[0]['lon']))\n",
    "    \n",
    "    print(\"-----------------------------\")\n",
    "    \n",
    "    response.close()\n",
    "    # requests.get(search_url.format(preprocessAddress(df._get_value(x, \"Locations\"))))"
   ]
  },
  {
   "cell_type": "code",
   "execution_count": null,
   "metadata": {},
   "outputs": [],
   "source": [
    "url = search_url.format(preprocessAddress(df._get_value(0, \"Locations\")))\n",
    "url"
   ]
  },
  {
   "cell_type": "code",
   "execution_count": null,
   "metadata": {},
   "outputs": [],
   "source": [
    "result = requests.get(url).json()[0]\n",
    "\"{} - {}\".format(result['lat'], result['lon'])"
   ]
  }
 ],
 "metadata": {
  "kernelspec": {
   "display_name": "Python 3.10.4 ('venv': venv)",
   "language": "python",
   "name": "python3"
  },
  "language_info": {
   "codemirror_mode": {
    "name": "ipython",
    "version": 3
   },
   "file_extension": ".py",
   "mimetype": "text/x-python",
   "name": "python",
   "nbconvert_exporter": "python",
   "pygments_lexer": "ipython3",
   "version": "3.10.4"
  },
  "orig_nbformat": 4,
  "vscode": {
   "interpreter": {
    "hash": "b3fc8c9c5b43b8331eb88bf6d7c917447d663f7dcc26851d77085b0d7b11ec18"
   }
  }
 },
 "nbformat": 4,
 "nbformat_minor": 2
}
