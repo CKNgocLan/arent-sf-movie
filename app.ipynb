{
 "cells": [
  {
   "cell_type": "markdown",
   "metadata": {},
   "source": [
    "# Use in Development Process in order to reduce spent time of running Python"
   ]
  },
  {
   "cell_type": "code",
   "execution_count": 1,
   "metadata": {},
   "outputs": [
    {
     "name": "stderr",
     "output_type": "stream",
     "text": [
      "e:\\Working\\Project\\arent-sf-movie\\venv\\lib\\site-packages\\grequests.py:22: MonkeyPatchWarning: Monkey-patching ssl after ssl has already been imported may lead to errors, including RecursionError on Python 3.6. It may also silently lead to incorrect behaviour on Python 3.7. Please monkey-patch earlier. See https://github.com/gevent/gevent/issues/1016. Modules that had direct imports (NOT patched): ['urllib3.util (e:\\\\Working\\\\Project\\\\arent-sf-movie\\\\venv\\\\lib\\\\site-packages\\\\urllib3\\\\util\\\\__init__.py)', 'urllib3.util.ssl_ (e:\\\\Working\\\\Project\\\\arent-sf-movie\\\\venv\\\\lib\\\\site-packages\\\\urllib3\\\\util\\\\ssl_.py)']. \n",
      "  curious_george.patch_all(thread=False, select=False)\n"
     ]
    }
   ],
   "source": [
    "# Import libraries\n",
    "from dataclasses import replace\n",
    "import pandas as pd\n",
    "from json import dumps\n",
    "from flask import Flask, render_template\n",
    "import requests\n",
    "from dotenv import load_dotenv\n",
    "import os\n",
    "import numpy as np\n",
    "\n",
    "# Ignore UserWarning\n",
    "import warnings\n",
    "warnings.simplefilter(\"ignore\", category=UserWarning)\n",
    "\n",
    "# grequests\n",
    "import grequests\n",
    "from urllib.parse import urlencode"
   ]
  },
  {
   "cell_type": "code",
   "execution_count": 2,
   "metadata": {},
   "outputs": [],
   "source": [
    "# Read CSV file\n",
    "df = pd.read_csv('Film_Locations_in_San_Francisco.csv')\n",
    "# df.head(5)"
   ]
  },
  {
   "cell_type": "code",
   "execution_count": 3,
   "metadata": {},
   "outputs": [],
   "source": [
    "# Preprocess Address: convert to queryable string used in url\n",
    "def preprocessAddress(address = \"\"):\n",
    "    result = address.lower().replace(\" \", \"+\").replace('streets', 'st')#.replace(\"and\", \", \")\n",
    "    return result"
   ]
  },
  {
   "cell_type": "code",
   "execution_count": null,
   "metadata": {},
   "outputs": [],
   "source": [
    "search_url = \"https://nominatim.openstreetmap.org/search.php\"\n",
    "for x in range(10, 20):\n",
    "    addr = df.at[x, \"Locations\"]\n",
    "    if pd.isnull(df.at[x, \"Locations\"]):\n",
    "        continue\n",
    "\n",
    "    print(\"Address: {}\".format(addr))\n",
    "    response = requests.get(search_url, params={\n",
    "        \"q\": preprocessAddress(addr),\n",
    "        \"limit\": 1,\n",
    "        \"format\": \"jsonv2\"\n",
    "    })\n",
    "    if len(response.json()) <= 0:\n",
    "        print(\"NOT Found\")\n",
    "        print(response.url)\n",
    "    else:\n",
    "        print(\"Found\")\n",
    "        print(\"[{}, {}]\".format(response.json()[0]['lat'], response.json()[0]['lon']))\n",
    "    \n",
    "    print(\"-----------------------------\")\n",
    "    \n",
    "    response.close()\n",
    "    # requests.get(search_url.format(preprocessAddress(df._get_value(x, \"Locations\"))))"
   ]
  },
  {
   "cell_type": "code",
   "execution_count": null,
   "metadata": {},
   "outputs": [],
   "source": [
    "# url = search_url.format(preprocessAddress(df._get_value(0, \"Locations\")))\n",
    "# url"
   ]
  }
 ],
 "metadata": {
  "kernelspec": {
   "display_name": "Python 3.10.4 ('venv': venv)",
   "language": "python",
   "name": "python3"
  },
  "language_info": {
   "codemirror_mode": {
    "name": "ipython",
    "version": 3
   },
   "file_extension": ".py",
   "mimetype": "text/x-python",
   "name": "python",
   "nbconvert_exporter": "python",
   "pygments_lexer": "ipython3",
   "version": "3.10.4"
  },
  "orig_nbformat": 4,
  "vscode": {
   "interpreter": {
    "hash": "b3fc8c9c5b43b8331eb88bf6d7c917447d663f7dcc26851d77085b0d7b11ec18"
   }
  }
 },
 "nbformat": 4,
 "nbformat_minor": 2
}
